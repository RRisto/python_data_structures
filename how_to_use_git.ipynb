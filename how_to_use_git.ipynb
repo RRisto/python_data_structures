{
 "cells": [
  {
   "cell_type": "markdown",
   "metadata": {},
   "source": [
    "## How to commit github"
   ]
  },
  {
   "cell_type": "markdown",
   "metadata": {},
   "source": [
    "1. using terminal go to folder where you have files that are in versioncontrol (use cd in terminal)\n",
    "2. type: git add . \n",
    "3. type: git commit -m \"commit message\"\n",
    "4. type: git push origin master\n",
    "5. credentials will be asked to login to github"
   ]
  },
  {
   "cell_type": "markdown",
   "metadata": {},
   "source": [
    "## Create new git repository"
   ]
  },
  {
   "cell_type": "markdown",
   "metadata": {},
   "source": [
    "1. using terminal go to folder which you want to be in github (use cd in terminal)\n",
    "2. type: git init\n",
    "3. type (this adds all files and folders to git): git add . \n",
    "4. optionally you can add .gitignore file to avoid adding all files to github. Just make new text document and name it .gitignore and inside the file list files/folders you don't want to add to github. More information: https://medium.com/@haydar_ai/learning-how-to-git-ignoring-files-and-folders-using-gitignore-177556afdbe3\n",
    "5. go to github and make repository for project. Store project link\n",
    "6. type: git remote add origin \"project link\"\n",
    "7. check that project link has changed, type: git remote -v\n",
    "8. commit files, type: git commit -m \"commit message\"\n",
    "9. push files to github, type: git push origin master\n",
    "10. credentials will be asked to login to github"
   ]
  },
  {
   "cell_type": "code",
   "execution_count": null,
   "metadata": {},
   "outputs": [],
   "source": []
  }
 ],
 "metadata": {
  "kernelspec": {
   "display_name": "Python 3",
   "language": "python",
   "name": "python3"
  },
  "language_info": {
   "codemirror_mode": {
    "name": "ipython",
    "version": 3
   },
   "file_extension": ".py",
   "mimetype": "text/x-python",
   "name": "python",
   "nbconvert_exporter": "python",
   "pygments_lexer": "ipython3",
   "version": "3.7.3"
  }
 },
 "nbformat": 4,
 "nbformat_minor": 2
}
