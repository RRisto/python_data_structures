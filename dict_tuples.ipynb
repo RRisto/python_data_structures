{
 "cells": [
  {
   "cell_type": "markdown",
   "metadata": {},
   "source": [
    "## Dictionaries"
   ]
  },
  {
   "cell_type": "markdown",
   "metadata": {},
   "source": [
    "Dictionaries are not sequences at all. They are mappings. Mappings are collections of objects but they store objects by key instead of by relative position."
   ]
  },
  {
   "cell_type": "markdown",
   "metadata": {},
   "source": [
    "It is best to think of a dictionary as an unordered set of key: value pairs, with the requirement that the keys are unique (within one dictionary) and must be of an immutable types, such as a Python string, a number, or a tuple. The value can be of any type including collection of types hence it is possible to create nested data structures.\n",
    "\n",
    "When we add a key to a dictionary, we must also add a value for that key. Python dictionaries are optimized for retrieving the value when we know the key, but not the other way around. They are very similar to C++'s unordered maps. Dictionaries provide very fast key lookup.\n",
    "\n",
    "So, mappings don't maintain any reliable left-to-right order. They simply map keys to their associated values. Dictionaries are the only mapping type in Python's core objects set. They are mutable, so they may changed in-place and can grow and shrink on demand.\n",
    "\n"
   ]
  },
  {
   "cell_type": "markdown",
   "metadata": {},
   "source": [
    "## Mapping"
   ]
  },
  {
   "cell_type": "markdown",
   "metadata": {},
   "source": [
    "Dictionaries are coded in curly braces when written as literals. They consist of a series of key: value pairs. Dictionaries are useful when we need to associate a set of values with keys such as to describe the properties of something. For example:"
   ]
  },
  {
   "cell_type": "code",
   "execution_count": 1,
   "metadata": {},
   "outputs": [],
   "source": [
    "D = {'Composer': 'Brahms', 'period': 'Romantic', 'Symphony': 1}"
   ]
  },
  {
   "cell_type": "markdown",
   "metadata": {},
   "source": [
    "We can index this dictionary by key to fetch and change the keys' associated values. The dictionary index operation uses the same syntax as that used for sequences, but the item in the square brackets is a key not a relative position:"
   ]
  },
  {
   "cell_type": "code",
   "execution_count": 2,
   "metadata": {},
   "outputs": [
    {
     "data": {
      "text/plain": [
       "'Brahms'"
      ]
     },
     "execution_count": 2,
     "metadata": {},
     "output_type": "execute_result"
    }
   ],
   "source": [
    "# Fetch value of key 'Composer'\n",
    "D['Composer']"
   ]
  },
  {
   "cell_type": "code",
   "execution_count": 3,
   "metadata": {},
   "outputs": [
    {
     "data": {
      "text/plain": [
       "{'Composer': 'Brahms', 'period': 'Romantic', 'Symphony': 4}"
      ]
     },
     "execution_count": 3,
     "metadata": {},
     "output_type": "execute_result"
    }
   ],
   "source": [
    "# Add 3 to 'Symphony' value\n",
    "D['Symphony'] += 3\n",
    "D"
   ]
  },
  {
   "cell_type": "markdown",
   "metadata": {},
   "source": [
    "We can build the dictionary in different way starting with an empty dictionary and fills it out one key at a time."
   ]
  },
  {
   "cell_type": "code",
   "execution_count": 4,
   "metadata": {},
   "outputs": [
    {
     "data": {
      "text/plain": [
       "{'Composer': 'Beethoven', 'Period': 'Classic', 'Symphony': 9}"
      ]
     },
     "execution_count": 4,
     "metadata": {},
     "output_type": "execute_result"
    }
   ],
   "source": [
    "D = {}\n",
    "D['Composer'] = 'Beethoven'\n",
    "D['Period'] = 'Classic'\n",
    "D['Symphony'] = 9\n",
    "D"
   ]
  },
  {
   "cell_type": "code",
   "execution_count": 5,
   "metadata": {},
   "outputs": [
    {
     "data": {
      "text/plain": [
       "'Beethoven'"
      ]
     },
     "execution_count": 5,
     "metadata": {},
     "output_type": "execute_result"
    }
   ],
   "source": [
    "D['Composer']"
   ]
  },
  {
   "cell_type": "markdown",
   "metadata": {},
   "source": [
    "## Nesting"
   ]
  },
  {
   "cell_type": "markdown",
   "metadata": {},
   "source": [
    "Let's make the previous example more complicated. We need a first name besides a last name and we want to store several pieces not just the symphony:"
   ]
  },
  {
   "cell_type": "code",
   "execution_count": 6,
   "metadata": {},
   "outputs": [],
   "source": [
    "D = {'Composer': {'first': 'Johannes', 'last' : 'Brahms'},\n",
    "         'Period': 'Romantic',\n",
    "         'Piece' : ['Piano Concerto No. 1', 'Piano Concerto No. 2',\n",
    "\t\t    'Symphony No. 1', 'Symphony No. 2',\n",
    "\t\t    'Violin Concerto in D Major',\n",
    "\t\t    'Hungarian Dances'] }"
   ]
  },
  {
   "cell_type": "code",
   "execution_count": 7,
   "metadata": {},
   "outputs": [
    {
     "data": {
      "text/plain": [
       "{'Composer': {'first': 'Johannes', 'last': 'Brahms'},\n",
       " 'Period': 'Romantic',\n",
       " 'Piece': ['Piano Concerto No. 1',\n",
       "  'Piano Concerto No. 2',\n",
       "  'Symphony No. 1',\n",
       "  'Symphony No. 2',\n",
       "  'Violin Concerto in D Major',\n",
       "  'Hungarian Dances']}"
      ]
     },
     "execution_count": 7,
     "metadata": {},
     "output_type": "execute_result"
    }
   ],
   "source": [
    "D"
   ]
  },
  {
   "cell_type": "markdown",
   "metadata": {},
   "source": [
    "Here we have a three-key dictionary at the top: 'Composer', 'Period', and 'Piece'. But the values have become more complicated: a nested dictionary for the name to support multiple parts, and a nested for the piece to list multiple pieces. We can access the components of this structure:"
   ]
  },
  {
   "cell_type": "code",
   "execution_count": 8,
   "metadata": {},
   "outputs": [
    {
     "data": {
      "text/plain": [
       "{'first': 'Johannes', 'last': 'Brahms'}"
      ]
     },
     "execution_count": 8,
     "metadata": {},
     "output_type": "execute_result"
    }
   ],
   "source": [
    "# 'Composer' is a nested dictionary\n",
    "D['Composer']"
   ]
  },
  {
   "cell_type": "code",
   "execution_count": 9,
   "metadata": {},
   "outputs": [
    {
     "data": {
      "text/plain": [
       "'Brahms'"
      ]
     },
     "execution_count": 9,
     "metadata": {},
     "output_type": "execute_result"
    }
   ],
   "source": [
    "# Index the nested dictionary\n",
    "D['Composer']['last']"
   ]
  },
  {
   "cell_type": "code",
   "execution_count": 10,
   "metadata": {},
   "outputs": [
    {
     "data": {
      "text/plain": [
       "['Piano Concerto No. 1',\n",
       " 'Piano Concerto No. 2',\n",
       " 'Symphony No. 1',\n",
       " 'Symphony No. 2',\n",
       " 'Violin Concerto in D Major',\n",
       " 'Hungarian Dances']"
      ]
     },
     "execution_count": 10,
     "metadata": {},
     "output_type": "execute_result"
    }
   ],
   "source": [
    "# Piece is a nested list\n",
    "D['Piece']"
   ]
  },
  {
   "cell_type": "code",
   "execution_count": 11,
   "metadata": {},
   "outputs": [
    {
     "data": {
      "text/plain": [
       "'Hungarian Dances'"
      ]
     },
     "execution_count": 11,
     "metadata": {},
     "output_type": "execute_result"
    }
   ],
   "source": [
    "# Index the nested list\n",
    "D['Piece'][-1]"
   ]
  },
  {
   "cell_type": "code",
   "execution_count": 13,
   "metadata": {},
   "outputs": [
    {
     "data": {
      "text/plain": [
       "{'Composer': {'first': 'Johannes', 'last': 'Brahms'},\n",
       " 'Period': 'Romantic',\n",
       " 'Piece': ['Piano Concerto No. 1',\n",
       "  'Piano Concerto No. 2',\n",
       "  'Symphony No. 1',\n",
       "  'Symphony No. 2',\n",
       "  'Violin Concerto in D Major',\n",
       "  'Hungarian Dances',\n",
       "  'Variations on a Theme by Paganini',\n",
       "  'Variations on a Theme by Paganini']}"
      ]
     },
     "execution_count": 13,
     "metadata": {},
     "output_type": "execute_result"
    }
   ],
   "source": [
    "# Expand the Piece list\n",
    "D['Piece'].append('Variations on a Theme by Paganini')\n",
    "D"
   ]
  },
  {
   "cell_type": "markdown",
   "metadata": {},
   "source": [
    "Notice how the last operation here expands the nested piece list. Because the piece list is a separate block of memory from the dictionary that contains it, it can grow and shrink freely.\n",
    "\n",
    "Let's do some clean up. In Python, when we lose the last reference to object by assigning its variable to something else. For example, all of the memory space occupied by that object's structure is automatically cleaned up for us:"
   ]
  },
  {
   "cell_type": "code",
   "execution_count": 14,
   "metadata": {},
   "outputs": [
    {
     "data": {
      "text/plain": [
       "0"
      ]
     },
     "execution_count": 14,
     "metadata": {},
     "output_type": "execute_result"
    }
   ],
   "source": [
    "D = 0\n",
    "D"
   ]
  },
  {
   "cell_type": "markdown",
   "metadata": {},
   "source": [
    "Python has garbage collection feature. So, the space is reclaimed immediately as soon as the last reference to an object is removed."
   ]
  },
  {
   "cell_type": "markdown",
   "metadata": {},
   "source": [
    "## Creating Nested dictionary\n",
    "We want to construct the following dictionary:"
   ]
  },
  {
   "cell_type": "code",
   "execution_count": 18,
   "metadata": {},
   "outputs": [
    {
     "data": {
      "text/plain": [
       "{'a': {'1': {'count': 0,\n",
       "   'results': [{'grade': 'ok', 'rc': 0}, {'grade': 'warning', 'rc': 1}]},\n",
       "  '2': {'count': 0,\n",
       "   'results': [{'grade': 'ok', 'rc': 0}, {'grade': 'warning', 'rc': 1}]},\n",
       "  '3': {'count': 0,\n",
       "   'results': [{'grade': 'ok', 'rc': 0}, {'grade': 'warning', 'rc': 1}]},\n",
       "  '4': {'count': 0,\n",
       "   'results': [{'grade': 'ok', 'rc': 0}, {'grade': 'warning', 'rc': 1}]},\n",
       "  '5': {'count': 0,\n",
       "   'results': [{'grade': 'ok', 'rc': 0}, {'grade': 'warning', 'rc': 1}]}},\n",
       " 'c': {'1': {'count': 0,\n",
       "   'results': [{'grade': 'ok', 'rc': 0}, {'grade': 'warning', 'rc': 1}]},\n",
       "  '2': {'count': 0,\n",
       "   'results': [{'grade': 'ok', 'rc': 0}, {'grade': 'warning', 'rc': 1}]},\n",
       "  '3': {'count': 0,\n",
       "   'results': [{'grade': 'ok', 'rc': 0}, {'grade': 'warning', 'rc': 1}]},\n",
       "  '4': {'count': 0,\n",
       "   'results': [{'grade': 'ok', 'rc': 0}, {'grade': 'warning', 'rc': 1}]},\n",
       "  '5': {'count': 0,\n",
       "   'results': [{'grade': 'ok', 'rc': 0}, {'grade': 'warning', 'rc': 1}]}},\n",
       " 'b': {'1': {'count': 0,\n",
       "   'results': [{'grade': 'ok', 'rc': 0}, {'grade': 'warning', 'rc': 1}]},\n",
       "  '2': {'count': 0,\n",
       "   'results': [{'grade': 'ok', 'rc': 0}, {'grade': 'warning', 'rc': 1}]},\n",
       "  '3': {'count': 0,\n",
       "   'results': [{'grade': 'ok', 'rc': 0}, {'grade': 'warning', 'rc': 1}]},\n",
       "  '4': {'count': 0,\n",
       "   'results': [{'grade': 'ok', 'rc': 0}, {'grade': 'warning', 'rc': 1}]},\n",
       "  '5': {'count': 0,\n",
       "   'results': [{'grade': 'ok', 'rc': 0}, {'grade': 'warning', 'rc': 1}]}}}"
      ]
     },
     "execution_count": 18,
     "metadata": {},
     "output_type": "execute_result"
    }
   ],
   "source": [
    "{\n",
    " 'a':\n",
    "     {\n",
    "        '1': {'count': 0, 'results': [{'grade': 'ok', 'rc': 0}, {'grade': 'warning', 'rc': 1}]},\n",
    "        '2': {'count': 0, 'results': [{'grade': 'ok', 'rc': 0}, {'grade': 'warning', 'rc': 1}]},\n",
    "        '3': {'count': 0, 'results': [{'grade': 'ok', 'rc': 0}, {'grade': 'warning', 'rc': 1}]},\n",
    "        '4': {'count': 0, 'results': [{'grade': 'ok', 'rc': 0}, {'grade': 'warning', 'rc': 1}]},\n",
    "        '5': {'count': 0, 'results': [{'grade': 'ok', 'rc': 0}, {'grade': 'warning', 'rc': 1}]}\n",
    "     },\n",
    " 'c':\n",
    "     {\n",
    "        '1': {'count': 0, 'results': [{'grade': 'ok', 'rc': 0}, {'grade': 'warning', 'rc': 1}]},\n",
    "        '2': {'count': 0, 'results': [{'grade': 'ok', 'rc': 0}, {'grade': 'warning', 'rc': 1}]},\n",
    "        '3': {'count': 0, 'results': [{'grade': 'ok', 'rc': 0}, {'grade': 'warning', 'rc': 1}]},\n",
    "        '4': {'count': 0, 'results': [{'grade': 'ok', 'rc': 0}, {'grade': 'warning', 'rc': 1}]},\n",
    "        '5': {'count': 0, 'results': [{'grade': 'ok', 'rc': 0}, {'grade': 'warning', 'rc': 1}]}\n",
    "     },\n",
    " 'b':\n",
    "     {\n",
    "        '1': {'count': 0, 'results': [{'grade': 'ok', 'rc': 0}, {'grade': 'warning', 'rc': 1}]},\n",
    "        '2': {'count': 0, 'results': [{'grade': 'ok', 'rc': 0}, {'grade': 'warning', 'rc': 1}]},\n",
    "        '3': {'count': 0, 'results': [{'grade': 'ok', 'rc': 0}, {'grade': 'warning', 'rc': 1}]},\n",
    "        '4': {'count': 0, 'results': [{'grade': 'ok', 'rc': 0}, {'grade': 'warning', 'rc': 1}]},\n",
    "        '5': {'count': 0, 'results': [{'grade': 'ok', 'rc': 0}, {'grade': 'warning', 'rc': 1}]}\n",
    "    }\n",
    "}\n"
   ]
  },
  {
   "cell_type": "markdown",
   "metadata": {},
   "source": [
    "## The code looks like this:"
   ]
  },
  {
   "cell_type": "code",
   "execution_count": 19,
   "metadata": {},
   "outputs": [
    {
     "data": {
      "text/plain": [
       "{'a': {'1': {'count': 0,\n",
       "   'results': [{'grade': 'ok', 'rc': 0}, {'grade': 'warning', 'rc': 1}]},\n",
       "  '2': {'count': 0,\n",
       "   'results': [{'grade': 'ok', 'rc': 0}, {'grade': 'warning', 'rc': 1}]},\n",
       "  '3': {'count': 0,\n",
       "   'results': [{'grade': 'ok', 'rc': 0}, {'grade': 'warning', 'rc': 1}]},\n",
       "  '4': {'count': 0,\n",
       "   'results': [{'grade': 'ok', 'rc': 0}, {'grade': 'warning', 'rc': 1}]},\n",
       "  '5': {'count': 0,\n",
       "   'results': [{'grade': 'ok', 'rc': 0}, {'grade': 'warning', 'rc': 1}]}},\n",
       " 'b': {'1': {'count': 0,\n",
       "   'results': [{'grade': 'ok', 'rc': 0}, {'grade': 'warning', 'rc': 1}]},\n",
       "  '2': {'count': 0,\n",
       "   'results': [{'grade': 'ok', 'rc': 0}, {'grade': 'warning', 'rc': 1}]},\n",
       "  '3': {'count': 0,\n",
       "   'results': [{'grade': 'ok', 'rc': 0}, {'grade': 'warning', 'rc': 1}]},\n",
       "  '4': {'count': 0,\n",
       "   'results': [{'grade': 'ok', 'rc': 0}, {'grade': 'warning', 'rc': 1}]},\n",
       "  '5': {'count': 0,\n",
       "   'results': [{'grade': 'ok', 'rc': 0}, {'grade': 'warning', 'rc': 1}]}},\n",
       " 'c': {'1': {'count': 0,\n",
       "   'results': [{'grade': 'ok', 'rc': 0}, {'grade': 'warning', 'rc': 1}]},\n",
       "  '2': {'count': 0,\n",
       "   'results': [{'grade': 'ok', 'rc': 0}, {'grade': 'warning', 'rc': 1}]},\n",
       "  '3': {'count': 0,\n",
       "   'results': [{'grade': 'ok', 'rc': 0}, {'grade': 'warning', 'rc': 1}]},\n",
       "  '4': {'count': 0,\n",
       "   'results': [{'grade': 'ok', 'rc': 0}, {'grade': 'warning', 'rc': 1}]},\n",
       "  '5': {'count': 0,\n",
       "   'results': [{'grade': 'ok', 'rc': 0}, {'grade': 'warning', 'rc': 1}]}}}"
      ]
     },
     "execution_count": 19,
     "metadata": {},
     "output_type": "execute_result"
    }
   ],
   "source": [
    "L1 = ['a','b','c']\n",
    "L2 = ['1','2','3','4','5']\n",
    "\n",
    "res_list = [\n",
    "    {'grade': 'ok', 'rc': 0},\n",
    "    {'grade': 'warning', 'rc': 1}\n",
    "]\n",
    "\n",
    "sub_dict = {\n",
    "    'count': 0,\n",
    "    'results': res_list\n",
    "}\n",
    "\n",
    "my_dict = {}\n",
    "for l1 in L1:\n",
    "    my_dict[l1] = {}\n",
    "\n",
    "for l1 in L1:\n",
    "    for l2 in L2:\n",
    "        my_dict[l1][l2] = sub_dict\n",
    "my_dict"
   ]
  },
  {
   "cell_type": "markdown",
   "metadata": {},
   "source": [
    "## Sorting Keys using for Loops"
   ]
  },
  {
   "cell_type": "markdown",
   "metadata": {},
   "source": [
    "Dictionary only support accessing items by key. They also support type-specific operation with method calls. Since dictionaries are not sequences, they don't maintain any dependable left-to-right order. As we've seen in the previous example, if we print the dictionary back, its keys may come back in a different order than how we typed them."
   ]
  },
  {
   "cell_type": "code",
   "execution_count": 20,
   "metadata": {},
   "outputs": [
    {
     "data": {
      "text/plain": [
       "{'a': 97, 'b': 98, 'c': 99}"
      ]
     },
     "execution_count": 20,
     "metadata": {},
     "output_type": "execute_result"
    }
   ],
   "source": [
    "D = {'a': 97, 'b': 98, 'c': 99}\n",
    "D"
   ]
  },
  {
   "cell_type": "markdown",
   "metadata": {},
   "source": [
    "What should we do if we want to impose an ordering on a dictionary's items?. One common solution is to grab a list of keys with the dictionary keys method, and sort that with the list sort method. Then, step through the result using for loop:"
   ]
  },
  {
   "cell_type": "code",
   "execution_count": 21,
   "metadata": {},
   "outputs": [
    {
     "data": {
      "text/plain": [
       "['a', 'b', 'c']"
      ]
     },
     "execution_count": 21,
     "metadata": {},
     "output_type": "execute_result"
    }
   ],
   "source": [
    "# Unordered keys list\n",
    "sortKeys = list(D.keys())\n",
    "sortKeys"
   ]
  },
  {
   "cell_type": "code",
   "execution_count": 22,
   "metadata": {},
   "outputs": [
    {
     "data": {
      "text/plain": [
       "['a', 'b', 'c']"
      ]
     },
     "execution_count": 22,
     "metadata": {},
     "output_type": "execute_result"
    }
   ],
   "source": [
    "# Sorted keys list\n",
    "sortKeys.sort()\n",
    "sortKeys"
   ]
  },
  {
   "cell_type": "code",
   "execution_count": 23,
   "metadata": {},
   "outputs": [
    {
     "name": "stdout",
     "output_type": "stream",
     "text": [
      "a => 97\n",
      "b => 98\n",
      "c => 99\n"
     ]
    }
   ],
   "source": [
    " # Iterate through sorted keys\n",
    "for k in sortKeys:\n",
    "\tprint(k, '=>', D[k])"
   ]
  },
  {
   "cell_type": "markdown",
   "metadata": {},
   "source": [
    "This is a three-step process, though. We can do it with built-in sorted() in one step:"
   ]
  },
  {
   "cell_type": "code",
   "execution_count": 24,
   "metadata": {},
   "outputs": [
    {
     "data": {
      "text/plain": [
       "{'a': 97, 'b': 98, 'c': 99}"
      ]
     },
     "execution_count": 24,
     "metadata": {},
     "output_type": "execute_result"
    }
   ],
   "source": [
    "D"
   ]
  },
  {
   "cell_type": "code",
   "execution_count": 25,
   "metadata": {},
   "outputs": [
    {
     "name": "stdout",
     "output_type": "stream",
     "text": [
      "a => 97\n",
      "b => 98\n",
      "c => 99\n"
     ]
    }
   ],
   "source": [
    "for k in sorted(D):\n",
    "\tprint (k, '=>', D[k])"
   ]
  },
  {
   "cell_type": "markdown",
   "metadata": {},
   "source": [
    "The for loop is a simple and efficient way to step through all the items in a sequence and run a block of code for each item in turn.\n",
    "\n",
    "There is another loop, while:"
   ]
  },
  {
   "cell_type": "code",
   "execution_count": 26,
   "metadata": {},
   "outputs": [
    {
     "name": "stdout",
     "output_type": "stream",
     "text": [
      "B\n",
      "L\n",
      "A\n",
      "H\n",
      "!\n"
     ]
    }
   ],
   "source": [
    "for c in 'blah!':\n",
    "\tprint(c.upper())"
   ]
  },
  {
   "cell_type": "markdown",
   "metadata": {},
   "source": [
    "The while loop is a more general sort of looping tool, not limited to stepping across sequences:"
   ]
  },
  {
   "cell_type": "code",
   "execution_count": 27,
   "metadata": {},
   "outputs": [
    {
     "name": "stdout",
     "output_type": "stream",
     "text": [
      "blah!blah!blah!blah!blah!\n",
      "blah!blah!blah!blah!\n",
      "blah!blah!blah!\n",
      "blah!blah!\n",
      "blah!\n"
     ]
    }
   ],
   "source": [
    "x = 5\n",
    "while x > 0:\n",
    "\tprint('blah!' * x)\n",
    "\tx -= 1"
   ]
  },
  {
   "cell_type": "markdown",
   "metadata": {},
   "source": [
    "## Iteration and Optimization"
   ]
  },
  {
   "cell_type": "markdown",
   "metadata": {},
   "source": [
    "The for loop looks like the list comprehension. Both will work on any object that follows the iteration protocol. The iteration protocol mean:"
   ]
  },
  {
   "cell_type": "markdown",
   "metadata": {},
   "source": [
    "A physically stored sequence in memory\n",
    "An object that generated on item at a time in the context of an iteration operation.\n",
    "An object falls into this category if it responds to the iter built-in with an object that advances in response to next. \n",
    "The generator comprehension expression is such an object."
   ]
  },
  {
   "cell_type": "markdown",
   "metadata": {},
   "source": [
    "Actually, every Python tool that scans an object from left to right uses the iteration protocol. And this is why sorted call used in the previous section works on dictionary directly:"
   ]
  },
  {
   "cell_type": "code",
   "execution_count": 28,
   "metadata": {},
   "outputs": [
    {
     "name": "stdout",
     "output_type": "stream",
     "text": [
      "a => 97\n",
      "b => 98\n",
      "c => 99\n"
     ]
    }
   ],
   "source": [
    "for k in sorted(D):\n",
    "\tprint (k, '=>', D[k])"
   ]
  },
  {
   "cell_type": "markdown",
   "metadata": {},
   "source": [
    "We don't have to call the keys method to get a sequence because dictionaries are iterable object, with a next that returns successive keys.\n",
    "\n",
    "This also means that any list comprehension expression which computes the cubics like the following example:"
   ]
  },
  {
   "cell_type": "code",
   "execution_count": 29,
   "metadata": {},
   "outputs": [
    {
     "data": {
      "text/plain": [
       "[1, 8, 27, 64, 125]"
      ]
     },
     "execution_count": 29,
     "metadata": {},
     "output_type": "execute_result"
    }
   ],
   "source": [
    "cubics = [ x ** 3 for x in [1, 2, 3, 4, 5]]\n",
    "cubics"
   ]
  },
  {
   "cell_type": "markdown",
   "metadata": {},
   "source": [
    "can always be coded as an equivalent for loop that builds the result list manually by appending as it goes:"
   ]
  },
  {
   "cell_type": "code",
   "execution_count": 30,
   "metadata": {},
   "outputs": [],
   "source": [
    "for x in [1, 2, 3, 4, 5]:\n",
    "\tcubics.append(x **3)"
   ]
  },
  {
   "cell_type": "code",
   "execution_count": 31,
   "metadata": {},
   "outputs": [
    {
     "data": {
      "text/plain": [
       "[1, 8, 27, 64, 125, 1, 8, 27, 64, 125]"
      ]
     },
     "execution_count": 31,
     "metadata": {},
     "output_type": "execute_result"
    }
   ],
   "source": [
    "cubics"
   ]
  },
  {
   "cell_type": "markdown",
   "metadata": {},
   "source": [
    "The list comprehension, though, and related functional programming tools like map and filter, will generally run faster than a for loop.\n",
    "\n",
    "If we ever need to tweak code for performance, Python includes tools to help us out such as time and timeit modules and the profile module."
   ]
  },
  {
   "cell_type": "markdown",
   "metadata": {},
   "source": [
    " ## if Tests for Missing Keys"
   ]
  },
  {
   "cell_type": "markdown",
   "metadata": {},
   "source": [
    "Although we can assign to a new key to expand a dictionary, fetch a key that does not exist is still a mistake:"
   ]
  },
  {
   "cell_type": "code",
   "execution_count": 32,
   "metadata": {},
   "outputs": [
    {
     "data": {
      "text/plain": [
       "{'A': 65, 'B': 66, 'C': 67}"
      ]
     },
     "execution_count": 32,
     "metadata": {},
     "output_type": "execute_result"
    }
   ],
   "source": [
    "D = {'A': 65, 'B': 66, 'C': 67}\n",
    "D"
   ]
  },
  {
   "cell_type": "code",
   "execution_count": 33,
   "metadata": {},
   "outputs": [
    {
     "data": {
      "text/plain": [
       "{'A': 65, 'B': 66, 'C': 67, 'E': 69}"
      ]
     },
     "execution_count": 33,
     "metadata": {},
     "output_type": "execute_result"
    }
   ],
   "source": [
    "# Assigning new keys\n",
    "D['E'] = 69\n",
    "D"
   ]
  },
  {
   "cell_type": "code",
   "execution_count": 34,
   "metadata": {},
   "outputs": [
    {
     "ename": "KeyError",
     "evalue": "'F'",
     "output_type": "error",
     "traceback": [
      "\u001b[0;31m---------------------------------------------------------------------------\u001b[0m",
      "\u001b[0;31mKeyError\u001b[0m                                  Traceback (most recent call last)",
      "\u001b[0;32m<ipython-input-34-cb1a6e3b35fd>\u001b[0m in \u001b[0;36m<module>\u001b[0;34m\u001b[0m\n\u001b[0;32m----> 1\u001b[0;31m \u001b[0mD\u001b[0m\u001b[0;34m[\u001b[0m\u001b[0;34m'F'\u001b[0m\u001b[0;34m]\u001b[0m\u001b[0;34m\u001b[0m\u001b[0m\n\u001b[0m",
      "\u001b[0;31mKeyError\u001b[0m: 'F'"
     ]
    }
   ],
   "source": [
    "D['F']"
   ]
  },
  {
   "cell_type": "markdown",
   "metadata": {},
   "source": [
    "The dictionary in membership expression allows us to query the existence of a key and branch on the result with a if statement."
   ]
  },
  {
   "cell_type": "code",
   "execution_count": 35,
   "metadata": {},
   "outputs": [
    {
     "data": {
      "text/plain": [
       "False"
      ]
     },
     "execution_count": 35,
     "metadata": {},
     "output_type": "execute_result"
    }
   ],
   "source": [
    "'F' in D"
   ]
  },
  {
   "cell_type": "code",
   "execution_count": 36,
   "metadata": {},
   "outputs": [
    {
     "name": "stdout",
     "output_type": "stream",
     "text": [
      "missing\n"
     ]
    }
   ],
   "source": [
    "if not 'F' in D:\n",
    "\tprint('missing')"
   ]
  },
  {
   "cell_type": "markdown",
   "metadata": {},
   "source": [
    "There are other ways to create dictionaries and avoid accessing nonexistent keys. The get method and the try statement, and if/else expression."
   ]
  },
  {
   "cell_type": "code",
   "execution_count": 37,
   "metadata": {},
   "outputs": [
    {
     "data": {
      "text/plain": [
       "{'A': 65, 'B': 66, 'C': 67, 'E': 69}"
      ]
     },
     "execution_count": 37,
     "metadata": {},
     "output_type": "execute_result"
    }
   ],
   "source": [
    "D"
   ]
  },
  {
   "cell_type": "code",
   "execution_count": 38,
   "metadata": {},
   "outputs": [
    {
     "data": {
      "text/plain": [
       "0"
      ]
     },
     "execution_count": 38,
     "metadata": {},
     "output_type": "execute_result"
    }
   ],
   "source": [
    "value = D.get('x', 0)\n",
    "value"
   ]
  },
  {
   "cell_type": "code",
   "execution_count": 39,
   "metadata": {},
   "outputs": [
    {
     "data": {
      "text/plain": [
       "0"
      ]
     },
     "execution_count": 39,
     "metadata": {},
     "output_type": "execute_result"
    }
   ],
   "source": [
    "value = D['x'] if 'x' in D else 0\n",
    "value"
   ]
  },
  {
   "cell_type": "markdown",
   "metadata": {},
   "source": [
    "## Tuples"
   ]
  },
  {
   "cell_type": "markdown",
   "metadata": {},
   "source": [
    "The tuple object ( reads like toople or tuhple) is immutable list. It is an ordered sequence of zero or more object references. Tuples are coded in parentheses instead of square brackets and they support arbitrary types, arbitrary nesting, and the usual sequence operations such as len() as well as the same slicing syntax.\n",
    "\n",
    "A tuple is much like a list except that it is immutable (unchangeable) once created. Since tuples are immutable, we cannot replace or delete any of items. So, if we want to modify an ordered sequence, we need to use a list instead of a tuple, or if we already have a tuple but want to modify it, all we need is to just convert it to a list, and then apply the changes we want to make."
   ]
  },
  {
   "cell_type": "code",
   "execution_count": 40,
   "metadata": {},
   "outputs": [
    {
     "data": {
      "text/plain": [
       "tuple"
      ]
     },
     "execution_count": 40,
     "metadata": {},
     "output_type": "execute_result"
    }
   ],
   "source": [
    "empty = ()\n",
    "type(empty)"
   ]
  },
  {
   "cell_type": "code",
   "execution_count": 41,
   "metadata": {},
   "outputs": [
    {
     "data": {
      "text/plain": [
       "str"
      ]
     },
     "execution_count": 41,
     "metadata": {},
     "output_type": "execute_result"
    }
   ],
   "source": [
    "t = (\"1\")\n",
    "type(t)"
   ]
  },
  {
   "cell_type": "code",
   "execution_count": 42,
   "metadata": {},
   "outputs": [
    {
     "data": {
      "text/plain": [
       "tuple"
      ]
     },
     "execution_count": 42,
     "metadata": {},
     "output_type": "execute_result"
    }
   ],
   "source": [
    "t = (\"1\",)\n",
    "type(t)"
   ]
  },
  {
   "cell_type": "markdown",
   "metadata": {},
   "source": [
    "Above example shows how to construct tuples. Note that to create a one item tuple, we should use a comma to distinguish it from an expression with ()."
   ]
  },
  {
   "cell_type": "code",
   "execution_count": 43,
   "metadata": {},
   "outputs": [
    {
     "data": {
      "text/plain": [
       "4"
      ]
     },
     "execution_count": 43,
     "metadata": {},
     "output_type": "execute_result"
    }
   ],
   "source": [
    "# 4-tiem tuple\n",
    "T = (1, 2, 3, 4)\n",
    "len(T)"
   ]
  },
  {
   "cell_type": "code",
   "execution_count": 44,
   "metadata": {},
   "outputs": [
    {
     "data": {
      "text/plain": [
       "(1, 2, 3, 4, 5, 6)"
      ]
     },
     "execution_count": 44,
     "metadata": {},
     "output_type": "execute_result"
    }
   ],
   "source": [
    " T + (5, 6)"
   ]
  },
  {
   "cell_type": "code",
   "execution_count": 45,
   "metadata": {},
   "outputs": [
    {
     "data": {
      "text/plain": [
       "(1, 2, 3, 4)"
      ]
     },
     "execution_count": 45,
     "metadata": {},
     "output_type": "execute_result"
    }
   ],
   "source": [
    "# Indexing, slicing etc.\n",
    "T"
   ]
  },
  {
   "cell_type": "code",
   "execution_count": 46,
   "metadata": {},
   "outputs": [
    {
     "data": {
      "text/plain": [
       "(2, 3, 4)"
      ]
     },
     "execution_count": 46,
     "metadata": {},
     "output_type": "execute_result"
    }
   ],
   "source": [
    " T[1:]"
   ]
  },
  {
   "cell_type": "code",
   "execution_count": 47,
   "metadata": {},
   "outputs": [
    {
     "data": {
      "text/plain": [
       "(1, 2, 3, 4)"
      ]
     },
     "execution_count": 47,
     "metadata": {},
     "output_type": "execute_result"
    }
   ],
   "source": [
    "T[0:]"
   ]
  },
  {
   "cell_type": "code",
   "execution_count": 48,
   "metadata": {},
   "outputs": [
    {
     "data": {
      "text/plain": [
       "(1, 2, 3)"
      ]
     },
     "execution_count": 48,
     "metadata": {},
     "output_type": "execute_result"
    }
   ],
   "source": [
    " T[:-1]"
   ]
  },
  {
   "cell_type": "markdown",
   "metadata": {},
   "source": [
    "Tuples have two type-specific callable methods:"
   ]
  },
  {
   "cell_type": "code",
   "execution_count": 49,
   "metadata": {},
   "outputs": [
    {
     "data": {
      "text/plain": [
       "5"
      ]
     },
     "execution_count": 49,
     "metadata": {},
     "output_type": "execute_result"
    }
   ],
   "source": [
    "T = ('a','b','c','d','e','f','b','c','b')\n",
    "# Tuple methods: 'f' appears at offset 5\n",
    "T.index('f')"
   ]
  },
  {
   "cell_type": "code",
   "execution_count": 50,
   "metadata": {},
   "outputs": [
    {
     "data": {
      "text/plain": [
       "3"
      ]
     },
     "execution_count": 50,
     "metadata": {},
     "output_type": "execute_result"
    }
   ],
   "source": [
    "# 'b' appears three times\n",
    "T.count('b')"
   ]
  },
  {
   "cell_type": "markdown",
   "metadata": {},
   "source": [
    "The primary distinction for tuples is that they cannot be changed once created. That is, they are immutable sequences:"
   ]
  },
  {
   "cell_type": "code",
   "execution_count": 51,
   "metadata": {},
   "outputs": [
    {
     "ename": "TypeError",
     "evalue": "'tuple' object does not support item assignment",
     "output_type": "error",
     "traceback": [
      "\u001b[0;31m---------------------------------------------------------------------------\u001b[0m",
      "\u001b[0;31mTypeError\u001b[0m                                 Traceback (most recent call last)",
      "\u001b[0;32m<ipython-input-51-89aeee2d8276>\u001b[0m in \u001b[0;36m<module>\u001b[0;34m\u001b[0m\n\u001b[1;32m      1\u001b[0m \u001b[0;31m# Tuples are immutable\u001b[0m\u001b[0;34m\u001b[0m\u001b[0;34m\u001b[0m\u001b[0m\n\u001b[0;32m----> 2\u001b[0;31m \u001b[0mT\u001b[0m\u001b[0;34m[\u001b[0m\u001b[0;36m0\u001b[0m\u001b[0;34m]\u001b[0m \u001b[0;34m=\u001b[0m \u001b[0;34m'A'\u001b[0m\u001b[0;34m\u001b[0m\u001b[0m\n\u001b[0m",
      "\u001b[0;31mTypeError\u001b[0m: 'tuple' object does not support item assignment"
     ]
    }
   ],
   "source": [
    "# Tuples are immutable\n",
    "T[0] = 'A'"
   ]
  },
  {
   "cell_type": "markdown",
   "metadata": {},
   "source": [
    "Like lists and dictionaries, tuples support mixed types and nesting, but they don't grow and shrink because they are immutable:"
   ]
  },
  {
   "cell_type": "code",
   "execution_count": 52,
   "metadata": {},
   "outputs": [
    {
     "data": {
      "text/plain": [
       "'mixed'"
      ]
     },
     "execution_count": 52,
     "metadata": {},
     "output_type": "execute_result"
    }
   ],
   "source": [
    "T =(3, 'mixed', ['A', 3, 2])\n",
    "T[1]"
   ]
  },
  {
   "cell_type": "code",
   "execution_count": 53,
   "metadata": {},
   "outputs": [
    {
     "data": {
      "text/plain": [
       "'A'"
      ]
     },
     "execution_count": 53,
     "metadata": {},
     "output_type": "execute_result"
    }
   ],
   "source": [
    " T[2][0]\n",
    "    "
   ]
  },
  {
   "cell_type": "code",
   "execution_count": 54,
   "metadata": {},
   "outputs": [
    {
     "ename": "AttributeError",
     "evalue": "'tuple' object has no attribute 'append'",
     "output_type": "error",
     "traceback": [
      "\u001b[0;31m---------------------------------------------------------------------------\u001b[0m",
      "\u001b[0;31mAttributeError\u001b[0m                            Traceback (most recent call last)",
      "\u001b[0;32m<ipython-input-54-e963f6a1c9da>\u001b[0m in \u001b[0;36m<module>\u001b[0;34m\u001b[0m\n\u001b[0;32m----> 1\u001b[0;31m \u001b[0mT\u001b[0m\u001b[0;34m.\u001b[0m\u001b[0mappend\u001b[0m\u001b[0;34m(\u001b[0m\u001b[0;36m44\u001b[0m\u001b[0;34m)\u001b[0m\u001b[0;34m\u001b[0m\u001b[0m\n\u001b[0m",
      "\u001b[0;31mAttributeError\u001b[0m: 'tuple' object has no attribute 'append'"
     ]
    }
   ],
   "source": [
    "T.append(44)"
   ]
  },
  {
   "cell_type": "markdown",
   "metadata": {},
   "source": [
    "So, why do we have a type that is like a list but supports fewer operations? \n",
    "Immutability!\n",
    "Immutability is the whole point!\n",
    "If we pass a collection of objects around our program as a list, it can be changed anywhere. But if we use a tuple, it cannot be changed. In other words, tuples provide a sort of integrity constraint that is convenient in programs of large size."
   ]
  },
  {
   "cell_type": "markdown",
   "metadata": {},
   "source": [
    "## Tuples - Packing and Unpacking"
   ]
  },
  {
   "cell_type": "markdown",
   "metadata": {},
   "source": [
    "Tuple packing is:"
   ]
  },
  {
   "cell_type": "code",
   "execution_count": 55,
   "metadata": {},
   "outputs": [
    {
     "data": {
      "text/plain": [
       "(1, 'a', [{'NAME': 'Serah', 'Age': 25}])"
      ]
     },
     "execution_count": 55,
     "metadata": {},
     "output_type": "execute_result"
    }
   ],
   "source": [
    "T = 1, 'a', [{'NAME':'Serah', 'Age':25}]\n",
    "T"
   ]
  },
  {
   "cell_type": "markdown",
   "metadata": {},
   "source": [
    "Tuple unpacking for assignment is:"
   ]
  },
  {
   "cell_type": "code",
   "execution_count": 56,
   "metadata": {},
   "outputs": [
    {
     "data": {
      "text/plain": [
       "(1, 'a', [{'NAME': 'Serah', 'Age': 25}])"
      ]
     },
     "execution_count": 56,
     "metadata": {},
     "output_type": "execute_result"
    }
   ],
   "source": [
    "x,y,z = T\n",
    "x,y,z"
   ]
  },
  {
   "cell_type": "markdown",
   "metadata": {},
   "source": [
    "Tuple unpacking requires that the list of variables on the left has the same number of elements as the length of the tuple."
   ]
  },
  {
   "cell_type": "code",
   "execution_count": null,
   "metadata": {},
   "outputs": [],
   "source": []
  }
 ],
 "metadata": {
  "kernelspec": {
   "display_name": "v36torch1.1.0",
   "language": "python",
   "name": "v36torch1.1.0"
  },
  "language_info": {
   "codemirror_mode": {
    "name": "ipython",
    "version": 3
   },
   "file_extension": ".py",
   "mimetype": "text/x-python",
   "name": "python",
   "nbconvert_exporter": "python",
   "pygments_lexer": "ipython3",
   "version": "3.6.6"
  }
 },
 "nbformat": 4,
 "nbformat_minor": 2
}
